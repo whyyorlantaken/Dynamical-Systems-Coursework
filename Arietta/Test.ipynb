{
 "cells": [
  {
   "cell_type": "markdown",
   "id": "78255b8e",
   "metadata": {},
   "source": [
    "# Cellular automata\n",
    "Test notebook."
   ]
  },
  {
   "cell_type": "code",
   "execution_count": 1,
   "id": "72cd31f7",
   "metadata": {},
   "outputs": [],
   "source": [
    "# Our code\n",
    "from Arietta import LifeLikeCA, ElementaryCA\n",
    "\n",
    "# Others\n",
    "import numpy as np\n",
    "import matplotlib.pyplot as plt"
   ]
  },
  {
   "cell_type": "markdown",
   "id": "3088fe26",
   "metadata": {},
   "source": [
    "## Elementary"
   ]
  },
  {
   "cell_type": "code",
   "execution_count": 34,
   "id": "4b816900",
   "metadata": {},
   "outputs": [],
   "source": [
    "# Set the rule\n",
    "rule = 250\n",
    "\n",
    "# Create an array\n",
    "n = 750\n",
    "array = np.zeros(n)\n",
    "array[n//2] = 1\n",
    "\n",
    "# Create an object with them\n",
    "rule_object = ElementaryCA(\n",
    "    rule = rule, \n",
    "    ics  = array\n",
    "    )\n",
    "\n",
    "# Get the evolution\n",
    "evolution = rule_object.evolution(iterations = n)"
   ]
  },
  {
   "cell_type": "code",
   "execution_count": 35,
   "id": "a040d158",
   "metadata": {},
   "outputs": [
    {
     "data": {
      "image/png": "[encoded data removed]",
      "text/plain": [
       "<Figure size 400x400 with 1 Axes>"
      ]
     },
     "metadata": {},
     "output_type": "display_data"
    }
   ],
   "source": [
    "# Plot\n",
    "plt.figure(figsize=(4, 4))\n",
    "plt.imshow(evolution, cmap='Blues_r', interpolation='nearest')\n",
    "plt.title(f'Rule {rule}')\n",
    "plt.axis('off')\n",
    "plt.show()"
   ]
  },
  {
   "cell_type": "markdown",
   "id": "d023dd0e",
   "metadata": {},
   "source": [
    "## Lifelike"
   ]
  },
  {
   "cell_type": "code",
   "execution_count": null,
   "id": "5978d51c",
   "metadata": {},
   "outputs": [],
   "source": [
    "# Matrix\n",
    "size = 500\n",
    "matrix = np.zeros((size, size), dtype = int)\n",
    "\n",
    "# Center point\n",
    "center_x, center_y = size // 2, size // 2\n",
    "\n",
    "# Pattern\n",
    "irregular = [(0, 0), (1, 1), (2, 2), (-1, 2), (2, -1), (0, 3),\n",
    "             (3, 0), (-2, 1), (1, -2), (2, 1), (-1, -1)]\n",
    "\n",
    "# Place the pattern\n",
    "for dx, dy in irregular:\n",
    "    matrix[center_x + dx, center_y + dy] = 1"
   ]
  },
  {
   "cell_type": "code",
   "execution_count": null,
   "id": "94df1c6e",
   "metadata": {},
   "outputs": [
    {
     "name": "stdout",
     "output_type": "stream",
     "text": [
      "Born with [2] and survive with [] neighbors. Otherwise, die.\n"
     ]
    }
   ],
   "source": [
    "# Rule\n",
    "rule = 32\n",
    "\n",
    "# Object\n",
    "life = LifeLikeCA(\n",
    "    rule = rule, \n",
    "    ics  = matrix\n",
    "    )"
   ]
  },
  {
   "cell_type": "code",
   "execution_count": 16,
   "id": "d17353c9",
   "metadata": {},
   "outputs": [
    {
     "name": "stdout",
     "output_type": "stream",
     "text": [
      "All images have been generated.\n",
      "\n"
     ]
    }
   ],
   "source": [
    "# Images\n",
    "life.images(\n",
    "    path = \"Output/test/\", \n",
    "    generations = 500, \n",
    "    cmap = \"Greys_r\", \n",
    "    shape = (6,6)\n",
    "    )"
   ]
  },
  {
   "cell_type": "code",
   "execution_count": 15,
   "id": "2c7bf1a3",
   "metadata": {},
   "outputs": [
    {
     "name": "stderr",
     "output_type": "stream",
     "text": [
      "Reading images: 100%|██████████| 201/201 [00:01<00:00, 184.73it/s]\n",
      "\n"
     ]
    },
    {
     "name": "stdout",
     "output_type": "stream",
     "text": [
      "\n",
      "Saved seeds-15fps.gif at Output/test/.\n",
      "\n"
     ]
    }
   ],
   "source": [
    "# Gif\n",
    "life.gif(\n",
    "    path = \"Output/test/\", \n",
    "    name = \"seeds-15fps\",\n",
    "    fps = 15,\n",
    "    display = False\n",
    "    )"
   ]
  }
 ],
 "metadata": {
  "kernelspec": {
   "display_name": "Python 3",
   "language": "python",
   "name": "python3"
  },
  "language_info": {
   "codemirror_mode": {
    "name": "ipython",
    "version": 3
   },
   "file_extension": ".py",
   "mimetype": "text/x-python",
   "name": "python",
   "nbconvert_exporter": "python",
   "pygments_lexer": "ipython3",
   "version": "3.9.21"
  }
 },
 "nbformat": 4,
 "nbformat_minor": 5
}
